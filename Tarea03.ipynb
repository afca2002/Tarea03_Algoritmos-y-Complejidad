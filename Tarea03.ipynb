{
 "cells": [
  {
   "cell_type": "markdown",
   "id": "e61868fe-9cb0-4b1f-ba92-7b34918561da",
   "metadata": {},
   "source": [
    "# 2) La serie de Maclaurin para la función arcotangente converge para −1 < 𝑥 ≤ 1 y está dada por\n",
    "$\n",
    "\\arctan(x) = \\lim_{n \\to \\infty} P_n(x) = \\lim_{n \\to \\infty} \\sum_{i=1}^{n} \\frac{(-1)^{i+1} x^{2i-1}}{2i - 1}*{-1}\n",
    "$\n",
    "\n"
   ]
  },
  {
   "cell_type": "markdown",
   "id": "74c064e4-59d4-4e14-beef-60f8fe1a8de0",
   "metadata": {},
   "source": [
    "### Ejercicio \n",
    "a. Utilice el hecho de que tan $\\frac{\\pi}{4} = 1 $  para determinar el número n de términos de la serie que se necesita \n",
    "sumar para garantizar que \n",
    "$|4P_n(1) - \\pi| < 10^{-3}$"
   ]
  },
  {
   "cell_type": "code",
   "execution_count": 7,
   "id": "39585c83-acb0-469d-bc3a-aba555e0bc2f",
   "metadata": {},
   "outputs": [
    {
     "name": "stdout",
     "output_type": "stream",
     "text": [
      "Se necesitan 1000 términos.\n",
      "Aproximación de π: 3.1405926538397932\n",
      "Error: 0.0009999997499998692\n"
     ]
    }
   ],
   "source": [
    "import math\n",
    "\n",
    "def arctan_maclaurin(n):\n",
    "    \"\"\"Calcula la aproximación de arctan(1) usando n términos de la serie de Maclaurin.\"\"\"\n",
    "    pi_over_4 = sum((-1)**(i + 1) / (2 * i - 1) for i in range(1, n + 1))\n",
    "    return 4 * pi_over_4\n",
    "\n",
    "def find_n_for_error_tolerance(tolerance):\n",
    "    \"\"\"Encuentra el número n de términos necesarios para garantizar |4Pn(1) - π| < tolerance.\"\"\"\n",
    "    n = 1\n",
    "    while True:\n",
    "        approx = arctan_maclaurin(n)\n",
    "        error = abs(approx - math.pi)\n",
    "        if error < tolerance:\n",
    "            break\n",
    "        n += 1\n",
    "    return n, approx, error\n",
    "\n",
    "# Definir la tolerancia\n",
    "tolerance = 10**-3\n",
    "\n",
    "# Encontrar n\n",
    "n_needed, approximation, error = find_n_for_error_tolerance(tolerance)\n",
    "\n",
    "# Mostrar resultados\n",
    "print(f\"Se necesitan {n_needed} términos.\")\n",
    "print(f\"Aproximación de π: {approximation}\")\n",
    "print(f\"Error: {error}\")"
   ]
  },
  {
   "cell_type": "markdown",
   "id": "4404ff09-bdfa-4a57-9057-c4cc88795b26",
   "metadata": {},
   "source": [
    "### Ejercicio\n",
    "b. El lenguaje de programación C++ requiere que el valor de 𝜋 se encuentre dentro de $10^{-10}$. ¿Cuántos términos de la serie se necesitarían sumar para obtener este grado de precisión?"
   ]
  },
  {
   "cell_type": "code",
   "execution_count": null,
   "id": "671c1a09-3b0c-4631-a151-8be3220550b0",
   "metadata": {},
   "outputs": [],
   "source": [
    "'''\n",
    "Codigo en c++\n",
    "'''\n",
    "#include <iostream>\n",
    "#include <cmath> // Para M_PI\n",
    "\n",
    "int main() {\n",
    "    const double epsilon = 1e-10; // Tolerancia para la parte b\n",
    "    double pi_approx = 0.0; // Aproximación de pi\n",
    "    double term;\n",
    "    int n = 0;\n",
    "\n",
    "    do {\n",
    "        n++; // Incrementa el número de términos\n",
    "        term = (n % 2 == 1 ? 1.0 : -1.0) / (2 * n - 1); // Calcula el término de la serie\n",
    "        pi_approx += term; // Suma el término a la aproximación\n",
    "    } while (fabs(4 * pi_approx - M_PI) >= epsilon); // Mientras el error sea mayor que epsilon\n",
    "\n",
    "    std::cout << \"Número de términos necesarios (parte b): \" << n << std::endl;\n",
    "    return 0;\n",
    "}\n"
   ]
  },
  {
   "cell_type": "markdown",
   "id": "f72e4da5-2af3-4088-9116-cb14a1bc2964",
   "metadata": {},
   "source": [
    "# EJERCICIO 3\n",
    "# Otra fórmula para calcular 𝜋 se puede deducir a partir de la identidad $ \\frac{\\pi}{4} = 4 \\arctan\\left(\\frac{1}{5}\\right) - \\arctan\\left(\\frac{1}{239}\\right)$ Determine el número de términos que se deben sumar para garantizar una aproximación 𝜋 dentro de $ 10^{-3}$\n"
   ]
  },
  {
   "cell_type": "code",
   "execution_count": null,
   "id": "43d84be8-8d68-4563-bd57-bdfb19b10718",
   "metadata": {},
   "outputs": [],
   "source": [
    "import math\n",
    "\n",
    "def arctan(x, n):\n",
    "    \"\"\"Calcula la aproximación de arctan(x) usando n términos de la serie de Taylor.\"\"\"\n",
    "    result = 0.0\n",
    "    for i in range(n):\n",
    "        term = ((-1) ** i * (x ** (2 * i + 1))) / (2 * i + 1)\n",
    "        result += term\n",
    "    return result\n",
    "\n",
    "def calculate_pi_approximation(tolerance):\n",
    "    \"\"\"Calcula el número de términos necesarios para garantizar |π - aproximación| < tolerance.\"\"\"\n",
    "    n = 1\n",
    "    while True:\n",
    "        approx = 4 * arctan(1 / 5, n) - arctan(1 / 239, n)  # Aproximación de π\n",
    "        error = abs(approx - math.pi)  # Error respecto a π\n",
    "        if error < tolerance:\n",
    "            break\n",
    "        n += 1\n",
    "    return n, approx, error\n",
    "\n",
    "# Definir la tolerancia\n",
    "tolerance = 10 ** -3\n",
    "\n",
    "# Calcular el número de términos necesarios\n",
    "n_needed, approximation, error = calculate_pi_approximation(tolerance)\n",
    "\n",
    "# Mostrar resultados\n",
    "print(f\"Se necesitan {n_needed} términos para una precisión de 10^-3.\")\n",
    "print(f\"Aproximación de π: {approximation}\")\n",
    "print(f\"Error: {error}\")\n"
   ]
  },
  {
   "cell_type": "markdown",
   "id": "c0d6cf31",
   "metadata": {},
   "source": [
    "# EJERCICIO 5\n",
    "# a) ¿Cuántas multiplicaciones y sumas se requieren para determinar una suma de la forma:\n",
    "\n",
    "$\n",
    "\\sum_{i=1}^{n} \\sum_{j=1}^{n} a_i b_j\n",
    "$\n",
    "\n"
   ]
  },
  {
   "cell_type": "code",
   "execution_count": null,
   "id": "8ac0dcc8",
   "metadata": {},
   "outputs": [
    {
     "name": "stdout",
     "output_type": "stream",
     "text": [
      "Suma doble: 90\n"
     ]
    }
   ],
   "source": [
    "def suma_doble(a, b):\n",
    "    \"\"\"Calcula la suma doble de la forma ∑ ∑ a_i b_j.\"\"\"\n",
    "    n = len(a)\n",
    "    total = 0\n",
    "    for i in range(n):\n",
    "        for j in range(n):\n",
    "            total += a[i] * b[j]\n",
    "    return total\n",
    "\n",
    "# Ejemplo de uso para la parte a\n",
    "a = [1, 2, 3]\n",
    "b = [4, 5, 6]\n",
    "\n",
    "resultado_doble = suma_doble(a, b)\n",
    "print(f\"Suma doble: {resultado_doble}\")"
   ]
  },
  {
   "cell_type": "markdown",
   "id": "3ae20399",
   "metadata": {},
   "source": [
    "# b). Modifique la suma en la parte a) a un formato equivalente que reduzca el número de cálculos. \n"
   ]
  },
  {
   "cell_type": "code",
   "execution_count": null,
   "id": "bc061448",
   "metadata": {},
   "outputs": [
    {
     "name": "stdout",
     "output_type": "stream",
     "text": [
      "Suma optimizada: 90\n"
     ]
    }
   ],
   "source": [
    "def suma_optimizada(a, b):\n",
    "    \"\"\"Calcula la suma optimizada de la forma ∑ a_i * ∑ b_j.\"\"\"\n",
    "    suma_b = sum(b)  # Calcula la suma de b_j una vez\n",
    "    total = 0\n",
    "    for i in range(len(a)):\n",
    "        total += a[i] * suma_b  # Multiplica cada a_i por la suma de b\n",
    "    return total\n",
    "\n",
    "# Ejemplo de uso para la parte b\n",
    "resultado_optimizado = suma_optimizada(a, b)\n",
    "print(f\"Suma optimizada: {resultado_optimizado}\")"
   ]
  },
  {
   "cell_type": "markdown",
   "id": "aef048b9",
   "metadata": {},
   "source": [
    "# DISCUSIONES\n",
    "\n",
    "## 2) Las ecuaciones (1.2) y (1.3) en la sección 1.2 proporcionan formas alternativas para las raíces 𝑥1 y 𝑥2 de 𝑎𝑥2 + 𝑏𝑥 + 𝑐 = 0. Construya un algoritmo con entrada 𝑎, 𝑏, 𝑐 c y salida 𝑥1, 𝑥2 que calcule las raíces 𝑥1 y 𝑥2 (que pueden ser iguales con conjugados complejos) mediante la mejor fórmula para cada raíZ)"
   ]
  },
  {
   "cell_type": "code",
   "execution_count": 1,
   "id": "2a340915",
   "metadata": {},
   "outputs": [
    {
     "name": "stdout",
     "output_type": "stream",
     "text": [
      "Las raíces de la ecuación son:\n",
      "x1 = (-0.3333333333333333+1.247219128924647j)\n",
      "x2 = (-0.3333333333333333-1.247219128924647j)\n"
     ]
    }
   ],
   "source": [
    "import cmath  # Para manejar números complejos\n",
    "\n",
    "def calcular_raices(a, b, c):\n",
    "    \"\"\"Calcula las raíces de la ecuación cuadrática ax^2 + bx + c = 0.\"\"\"\n",
    "    # Calcula el discriminante\n",
    "    discriminante = b**2 - 4*a*c\n",
    "    \n",
    "    # Calcula las raíces utilizando la fórmula cuadrática\n",
    "    x1 = (-b + cmath.sqrt(discriminante)) / (2 * a)\n",
    "    x2 = (-b - cmath.sqrt(discriminante)) / (2 * a)\n",
    "    \n",
    "    return x1, x2\n",
    "\n",
    "# Entrada de los coeficientes\n",
    "a = float(input(\"Ingrese el valor de a: \"))\n",
    "b = float(input(\"Ingrese el valor de b: \"))\n",
    "c = float(input(\"Ingrese el valor de c: \"))\n",
    "\n",
    "# Calcular las raíces\n",
    "raiz1, raiz2 = calcular_raices(a, b, c)\n",
    "\n",
    "# Mostrar resultados\n",
    "print(f\"Las raíces de la ecuación son:\")\n",
    "print(f\"x1 = {raiz1}\")\n",
    "print(f\"x2 = {raiz2}\")\n"
   ]
  }
 ],
 "metadata": {
  "kernelspec": {
   "display_name": "base",
   "language": "python",
   "name": "python3"
  },
  "language_info": {
   "codemirror_mode": {
    "name": "ipython",
    "version": 3
   },
   "file_extension": ".py",
   "mimetype": "text/x-python",
   "name": "python",
   "nbconvert_exporter": "python",
   "pygments_lexer": "ipython3",
   "version": "3.12.4"
  }
 },
 "nbformat": 4,
 "nbformat_minor": 5
}
