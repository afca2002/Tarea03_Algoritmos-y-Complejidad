{
 "cells": [
  {
   "cell_type": "markdown",
   "id": "e61868fe-9cb0-4b1f-ba92-7b34918561da",
   "metadata": {},
   "source": [
    "# 2) La serie de Maclaurin para la función arcotangente converge para −1 < 𝑥 ≤ 1 y está dada por\n",
    "$\n",
    "\\arctan(x) = \\lim_{n \\to \\infty} P_n(x) = \\lim_{n \\to \\infty} \\sum_{i=1}^{n} \\frac{(-1)^{i+1} x^{2i-1}}{2i - 1}*{-1}\n",
    "$\n",
    "\n"
   ]
  },
  {
   "cell_type": "markdown",
   "id": "74c064e4-59d4-4e14-beef-60f8fe1a8de0",
   "metadata": {},
   "source": [
    "### Ejercicio \n",
    "a. Utilice el hecho de que tan $\\frac{\\pi}{4} = 1 $  para determinar el número n de términos de la serie que se necesita \n",
    "sumar para garantizar que \n",
    "$|4P_n(1) - \\pi| < 10^{-3}$"
   ]
  },
  {
   "cell_type": "code",
   "execution_count": 27,
   "id": "39585c83-acb0-469d-bc3a-aba555e0bc2f",
   "metadata": {},
   "outputs": [
    {
     "name": "stdout",
     "output_type": "stream",
     "text": [
      "Se necesitan 1000 términos.\n",
      "Aproximación de π: 3.1405926538397932\n",
      "Error: 0.0009999997499998692\n"
     ]
    }
   ],
   "source": [
    "import math\n",
    "\n",
    "def arctan_maclaurin(n):\n",
    "    \"\"\"Calcula la aproximación de arctan(1) usando n términos de la serie de Maclaurin.\"\"\"\n",
    "    pi_over_4 = sum((-1)**(i + 1) / (2 * i - 1) for i in range(1, n + 1))\n",
    "    return 4 * pi_over_4\n",
    "\n",
    "def find_n_for_error_tolerance(tolerance):\n",
    "    \"\"\"Encuentra el número n de términos necesarios para garantizar |4Pn(1) - π| < tolerance.\"\"\"\n",
    "    n = 1\n",
    "    while True:\n",
    "        approx = arctan_maclaurin(n)\n",
    "        error = abs(approx - math.pi)\n",
    "        if error < tolerance:\n",
    "            break\n",
    "        n += 1\n",
    "    return n, approx, error\n",
    "\n",
    "# Definir la tolerancia\n",
    "tolerance = 10**-3\n",
    "\n",
    "# Encontrar n\n",
    "n_needed, approximation, error = find_n_for_error_tolerance(tolerance)\n",
    "\n",
    "# Mostrar resultados\n",
    "print(f\"Se necesitan {n_needed} términos.\")\n",
    "print(f\"Aproximación de π: {approximation}\")\n",
    "print(f\"Error: {error}\")"
   ]
  },
  {
   "cell_type": "markdown",
   "id": "4404ff09-bdfa-4a57-9057-c4cc88795b26",
   "metadata": {},
   "source": [
    "### Ejercicio\n",
    "b. El lenguaje de programación C++ requiere que el valor de 𝜋 se encuentre dentro de $10^{-10}$. ¿Cuántos términos de la serie se necesitarían sumar para obtener este grado de precisión?"
   ]
  },
  {
   "cell_type": "code",
   "execution_count": null,
   "id": "671c1a09-3b0c-4631-a151-8be3220550b0",
   "metadata": {},
   "outputs": [],
   "source": [
    "'''\n",
    "Codigo en c++\n",
    "'''\n",
    "#include <iostream>\n",
    "#include <cmath> // Para M_PI\n",
    "\n",
    "int main() {\n",
    "    const double epsilon = 1e-10; // Tolerancia para la parte b\n",
    "    double pi_approx = 0.0; // Aproximación de pi\n",
    "    double term;\n",
    "    int n = 0;\n",
    "\n",
    "    do {\n",
    "        n++; // Incrementa el número de términos\n",
    "        term = (n % 2 == 1 ? 1.0 : -1.0) / (2 * n - 1); // Calcula el término de la serie\n",
    "        pi_approx += term; // Suma el término a la aproximación\n",
    "    } while (fabs(4 * pi_approx - M_PI) >= epsilon); // Mientras el error sea mayor que epsilon\n",
    "\n",
    "    std::cout << \"Número de términos necesarios (parte b): \" << n << std::endl;\n",
    "    return 0;\n",
    "}\n"
   ]
  },
  {
   "cell_type": "markdown",
   "id": "f72e4da5-2af3-4088-9116-cb14a1bc2964",
   "metadata": {},
   "source": [
    "# 3) Otra fórmula para calcular 𝜋 se puede deducir a partir de la identidad $ \\frac{\\pi}{4} = 4 \\arctan\\left(\\frac{1}{5}\\right) - \\arctan\\left(\\frac{1}{239}\\right)$ Determine el número de términos que se deben sumar para garantizar una aproximación 𝜋 dentro de $ 10^{-3}$\n"
   ]
  },
  {
   "cell_type": "code",
   "execution_count": null,
   "id": "43d84be8-8d68-4563-bd57-bdfb19b10718",
   "metadata": {},
   "outputs": [],
   "source": [
    "import math\n",
    "\n",
    "def arctan(x, n):\n",
    "    \"\"\"Calcula la aproximación de arctan(x) usando n términos de la serie de Taylor.\"\"\"\n",
    "    result = 0.0\n",
    "    for i in range(n):\n",
    "        term = ((-1)**i * (x**(2*i + 1))) / (2*i + 1)\n",
    "        result += term\n",
    "    return result\n",
    "\n",
    "def calculate_pi_approximation(tolerance):\n",
    "    \"\"\"Calcula el número de términos necesarios para garantizar |π - aproximación| < tolerance.\"\"\"\n",
    "    n = 1\n",
    "    while True:\n",
    "        approx = 4 * arctan(1/5, n) - arctan(1/239, n)\n",
    "        error = abs(approx - math.pi)\n",
    "        if error < tolerance:\n",
    "            break\n",
    "        n += 1\n",
    "    return n, approx, error\n",
    "\n",
    "# Definir la tolerancia\n",
    "tolerance = 10**-3\n",
    "\n",
    "# Calcular el número de términos necesarios\n",
    "n_needed, approximation, error = calculate_pi_approximation(tolerance)\n",
    "\n",
    "# Mostrar resultados\n",
    "print(f\"Se necesitan {n_needed} términos para una precisión de 10^-3.\")\n",
    "print(f\"Aproximación de π: {approximation}\")\n",
    "print(f\"Error: {error}\")"
   ]
  }
 ],
 "metadata": {
  "kernelspec": {
   "display_name": "Python 3 (ipykernel)",
   "language": "python",
   "name": "python3"
  },
  "language_info": {
   "codemirror_mode": {
    "name": "ipython",
    "version": 3
   },
   "file_extension": ".py",
   "mimetype": "text/x-python",
   "name": "python",
   "nbconvert_exporter": "python",
   "pygments_lexer": "ipython3",
   "version": "3.12.4"
  }
 },
 "nbformat": 4,
 "nbformat_minor": 5
}
